{
  "cells": [
    {
      "cell_type": "markdown",
      "metadata": {
        "id": "view-in-github",
        "colab_type": "text"
      },
      "source": [
        "<a href=\"https://colab.research.google.com/github/HeqingZ/TESTING/blob/main/EXPERIMENT_SMALL_SWINT.ipynb\" target=\"_parent\"><img src=\"https://colab.research.google.com/assets/colab-badge.svg\" alt=\"Open In Colab\"/></a>"
      ]
    },
    {
      "cell_type": "code",
      "execution_count": 1,
      "metadata": {
        "colab": {
          "base_uri": "https://localhost:8080/"
        },
        "id": "aOIMZ1RWoOk1",
        "outputId": "da19e827-b16f-4af7-b630-cb719e71dd92"
      },
      "outputs": [
        {
          "output_type": "stream",
          "name": "stdout",
          "text": [
            "Drive already mounted at /content/drive; to attempt to forcibly remount, call drive.mount(\"/content/drive\", force_remount=True).\n"
          ]
        }
      ],
      "source": [
        "#mount on google drive\n",
        "from google.colab import drive\n",
        "drive.mount('/content/drive')"
      ]
    },
    {
      "cell_type": "code",
      "execution_count": 2,
      "metadata": {
        "colab": {
          "base_uri": "https://localhost:8080/"
        },
        "id": "oXZ-BaoZn40b",
        "outputId": "0b5fc871-6487-4d07-8a47-168da1c89b36"
      },
      "outputs": [
        {
          "output_type": "stream",
          "name": "stdout",
          "text": [
            "Requirement already satisfied: torchvision in /usr/local/lib/python3.7/dist-packages (from timm->detectron2==0.6) (0.13.1+cu113)\n",
            "Building wheels for collected packages: detectron2, fvcore, antlr4-python3-runtime, fairscale\n",
            "  Building wheel for detectron2 (setup.py) ... \u001b[?25l\u001b[?25hdone\n",
            "  Created wheel for detectron2: filename=detectron2-0.6-cp37-cp37m-linux_x86_64.whl size=5240737 sha256=f0b286b4908d32c88a53fae40d39812cf5c9b5eeed563ff02ebb0cf60469bbc4\n",
            "  Stored in directory: /tmp/pip-ephem-wheel-cache-_33w123c/wheels/07/dc/32/0322cb484dbefab8b9366bfedbaff5060ac7d149d69c27ca5d\n",
            "  Building wheel for fvcore (setup.py) ... \u001b[?25l\u001b[?25hdone\n",
            "  Created wheel for fvcore: filename=fvcore-0.1.5.post20220512-py3-none-any.whl size=61288 sha256=0bf436de9c408b765d9a6570a6ffe94888621399d22c3909fe1d71e90c71c093\n",
            "  Stored in directory: /root/.cache/pip/wheels/68/20/f9/a11a0dd63f4c13678b2a5ec488e48078756505c7777b75b29e\n",
            "  Building wheel for antlr4-python3-runtime (setup.py) ... \u001b[?25l\u001b[?25hdone\n",
            "  Created wheel for antlr4-python3-runtime: filename=antlr4_python3_runtime-4.9.3-py3-none-any.whl size=144575 sha256=509912441ab843151e7e84a83e6167033ba7510d71d050a6889c8b55e41a7a42\n",
            "  Stored in directory: /root/.cache/pip/wheels/8b/8d/53/2af8772d9aec614e3fc65e53d4a993ad73c61daa8bbd85a873\n",
            "  Building wheel for fairscale (PEP 517) ... \u001b[?25l\u001b[?25hdone\n",
            "  Created wheel for fairscale: filename=fairscale-0.4.6-py3-none-any.whl size=307252 sha256=563c0efff51b47cc7babda35f67033329b8784d71d1e83c83973413318835870\n",
            "  Stored in directory: /root/.cache/pip/wheels/4e/4f/0b/94c29ea06dfad93260cb0377855f87b7b863312317a7f69fe7\n",
            "Successfully built detectron2 fvcore antlr4-python3-runtime fairscale\n",
            "Installing collected packages: portalocker, antlr4-python3-runtime, yacs, typed-ast, platformdirs, pathspec, omegaconf, mypy-extensions, iopath, click, timm, hydra-core, fvcore, fairscale, black, detectron2\n",
            "  Attempting uninstall: click\n",
            "    Found existing installation: click 7.1.2\n",
            "    Uninstalling click-7.1.2:\n",
            "      Successfully uninstalled click-7.1.2\n",
            "\u001b[31mERROR: pip's dependency resolver does not currently take into account all the packages that are installed. This behaviour is the source of the following dependency conflicts.\n",
            "flask 1.1.4 requires click<8.0,>=5.1, but you have click 8.1.3 which is incompatible.\u001b[0m\n",
            "Successfully installed antlr4-python3-runtime-4.9.3 black-22.3.0 click-8.1.3 detectron2-0.6 fairscale-0.4.6 fvcore-0.1.5.post20220512 hydra-core-1.2.0 iopath-0.1.9 mypy-extensions-0.4.3 omegaconf-2.2.3 pathspec-0.9.0 platformdirs-2.5.2 portalocker-2.5.1 timm-0.6.7 typed-ast-1.5.4 yacs-0.1.8\n"
          ]
        }
      ],
      "source": [
        "#install detectron2\n",
        "!python -m pip install pyyaml==5.1\n",
        "!python -m pip install 'git+https://github.com/facebookresearch/detectron2.git'"
      ]
    },
    {
      "cell_type": "code",
      "execution_count": 2,
      "metadata": {
        "colab": {
          "base_uri": "https://localhost:8080/"
        },
        "id": "6svJDiBGoH3o",
        "outputId": "13087dcf-816e-41e0-be3a-5b1e23992f4b"
      },
      "outputs": [
        {
          "output_type": "stream",
          "name": "stdout",
          "text": [
            "nvcc: NVIDIA (R) Cuda compiler driver\n",
            "Copyright (c) 2005-2020 NVIDIA Corporation\n",
            "Built on Mon_Oct_12_20:09:46_PDT_2020\n",
            "Cuda compilation tools, release 11.1, V11.1.105\n",
            "Build cuda_11.1.TC455_06.29190527_0\n",
            "torch:  1.7 ; cuda:  cu110\n",
            "detectron2: 0.5\n"
          ]
        }
      ],
      "source": [
        "#import some important utilities of Detectron2\n",
        "import torch, detectron2\n",
        "!nvcc --version\n",
        "TORCH_VERSION = \".\".join(torch.__version__.split(\".\")[:2])\n",
        "CUDA_VERSION = torch.__version__.split(\"+\")[-1]\n",
        "print(\"torch: \", TORCH_VERSION, \"; cuda: \", CUDA_VERSION)\n",
        "print(\"detectron2:\", detectron2.__version__)"
      ]
    },
    {
      "cell_type": "code",
      "execution_count": 3,
      "metadata": {
        "id": "OXPdIhZRoLBy"
      },
      "outputs": [],
      "source": [
        "# Some basic setup:\n",
        "# Setup detectron2 logger\n",
        "import detectron2\n",
        "from detectron2.utils.logger import setup_logger\n",
        "setup_logger()\n",
        "\n",
        "# import some common libraries\n",
        "import numpy as np\n",
        "import os, json, cv2, random\n",
        "from google.colab.patches import cv2_imshow\n",
        "\n",
        "# import some common detectron2 utilities\n",
        "from detectron2 import model_zoo\n",
        "from detectron2.engine import DefaultPredictor\n",
        "from detectron2.config import get_cfg\n",
        "from detectron2.utils.visualizer import Visualizer\n",
        "from detectron2.data import MetadataCatalog, DatasetCatalog\n",
        "#import features for the bbox\n",
        "import numpy as np\n",
        "import cv2\n",
        "import matplotlib.pyplot as plt\n",
        "from google.colab.patches import cv2_imshow\n",
        "\n",
        "from detectron2.structures import BoxMode"
      ]
    },
    {
      "cell_type": "code",
      "source": [
        "\"\"\"cpu\"\"\"\n",
        "# !python -m pip install detectron2 -f https://dl.fbaipublicfiles.com/detectron2/wheels/cpu/torch1.9/index.html\n",
        "\"\"\"gpu\"\"\"    \n",
        "!pip install torch==1.7.1+cu110 torchvision==0.8.2+cu110 -f https://download.pytorch.org/whl/torch_stable.html\n",
        "!pip install detectron2==0.5 -f https://dl.fbaipublicfiles.com/detectron2/wheels/cu110/torch1.7/index.html\n",
        "\n",
        "!pip install timm\n",
        "!git clone https://github.com/emiz6413/SwinT_detectron2.git swin\n",
        "!curl -OL https://github.com/xiaohu2015/SwinT_detectron2/releases/download/v1.1/swin_tiny_patch4_window7_224_d2.pth  \n",
        "!curl -OL https://github.com/xiaohu2015/SwinT_detectron2/releases/download/v1.1/faster_rcnn_swint_T.pth  # pretrained\n",
        "\n",
        "!curl -OL https://github.com/emiz6413/SwinT_detectron2/releases/download/v1.3/model_0021209.pth  # trained"
      ],
      "metadata": {
        "colab": {
          "base_uri": "https://localhost:8080/"
        },
        "id": "Cs45AhtDMqYS",
        "outputId": "880363b8-dc8b-45be-da42-b0d76037543d"
      },
      "execution_count": 50,
      "outputs": [
        {
          "output_type": "stream",
          "name": "stdout",
          "text": [
            "Looking in indexes: https://pypi.org/simple, https://us-python.pkg.dev/colab-wheels/public/simple/\n",
            "Looking in links: https://download.pytorch.org/whl/torch_stable.html\n",
            "Requirement already satisfied: torch==1.7.1+cu110 in /usr/local/lib/python3.7/dist-packages (1.7.1+cu110)\n",
            "Requirement already satisfied: torchvision==0.8.2+cu110 in /usr/local/lib/python3.7/dist-packages (0.8.2+cu110)\n",
            "Requirement already satisfied: numpy in /usr/local/lib/python3.7/dist-packages (from torch==1.7.1+cu110) (1.21.6)\n",
            "Requirement already satisfied: typing-extensions in /usr/local/lib/python3.7/dist-packages (from torch==1.7.1+cu110) (4.1.1)\n",
            "Requirement already satisfied: pillow>=4.1.1 in /usr/local/lib/python3.7/dist-packages (from torchvision==0.8.2+cu110) (7.1.2)\n",
            "Looking in indexes: https://pypi.org/simple, https://us-python.pkg.dev/colab-wheels/public/simple/\n",
            "Looking in links: https://dl.fbaipublicfiles.com/detectron2/wheels/cu110/torch1.7/index.html\n",
            "Requirement already satisfied: detectron2==0.5 in /usr/local/lib/python3.7/dist-packages (0.5+cu110)\n",
            "Requirement already satisfied: tabulate in /usr/local/lib/python3.7/dist-packages (from detectron2==0.5) (0.8.10)\n",
            "Requirement already satisfied: fvcore<0.1.6,>=0.1.5 in /usr/local/lib/python3.7/dist-packages (from detectron2==0.5) (0.1.5.post20220512)\n",
            "Requirement already satisfied: pycocotools>=2.0.2 in /usr/local/lib/python3.7/dist-packages (from detectron2==0.5) (2.0.4)\n",
            "Requirement already satisfied: tensorboard in /usr/local/lib/python3.7/dist-packages (from detectron2==0.5) (2.8.0)\n",
            "Requirement already satisfied: pydot in /usr/local/lib/python3.7/dist-packages (from detectron2==0.5) (1.3.0)\n",
            "Requirement already satisfied: tqdm>4.29.0 in /usr/local/lib/python3.7/dist-packages (from detectron2==0.5) (4.64.0)\n",
            "Requirement already satisfied: iopath<0.1.9,>=0.1.7 in /usr/local/lib/python3.7/dist-packages (from detectron2==0.5) (0.1.8)\n",
            "Requirement already satisfied: omegaconf>=2.1 in /usr/local/lib/python3.7/dist-packages (from detectron2==0.5) (2.2.3)\n",
            "Requirement already satisfied: Pillow>=7.1 in /usr/local/lib/python3.7/dist-packages (from detectron2==0.5) (7.1.2)\n",
            "Requirement already satisfied: matplotlib in /usr/local/lib/python3.7/dist-packages (from detectron2==0.5) (3.2.2)\n",
            "Requirement already satisfied: termcolor>=1.1 in /usr/local/lib/python3.7/dist-packages (from detectron2==0.5) (1.1.0)\n",
            "Requirement already satisfied: future in /usr/local/lib/python3.7/dist-packages (from detectron2==0.5) (0.16.0)\n",
            "Requirement already satisfied: yacs>=0.1.6 in /usr/local/lib/python3.7/dist-packages (from detectron2==0.5) (0.1.8)\n",
            "Requirement already satisfied: black==21.4b2 in /usr/local/lib/python3.7/dist-packages (from detectron2==0.5) (21.4b2)\n",
            "Requirement already satisfied: cloudpickle in /usr/local/lib/python3.7/dist-packages (from detectron2==0.5) (1.5.0)\n",
            "Requirement already satisfied: hydra-core>=1.1 in /usr/local/lib/python3.7/dist-packages (from detectron2==0.5) (1.2.0)\n",
            "Requirement already satisfied: appdirs in /usr/local/lib/python3.7/dist-packages (from black==21.4b2->detectron2==0.5) (1.4.4)\n",
            "Requirement already satisfied: regex>=2020.1.8 in /usr/local/lib/python3.7/dist-packages (from black==21.4b2->detectron2==0.5) (2022.6.2)\n",
            "Requirement already satisfied: pathspec<1,>=0.8.1 in /usr/local/lib/python3.7/dist-packages (from black==21.4b2->detectron2==0.5) (0.9.0)\n",
            "Requirement already satisfied: click>=7.1.2 in /usr/local/lib/python3.7/dist-packages (from black==21.4b2->detectron2==0.5) (8.1.3)\n",
            "Requirement already satisfied: toml>=0.10.1 in /usr/local/lib/python3.7/dist-packages (from black==21.4b2->detectron2==0.5) (0.10.2)\n",
            "Requirement already satisfied: typing-extensions>=3.7.4 in /usr/local/lib/python3.7/dist-packages (from black==21.4b2->detectron2==0.5) (4.1.1)\n",
            "Requirement already satisfied: typed-ast>=1.4.2 in /usr/local/lib/python3.7/dist-packages (from black==21.4b2->detectron2==0.5) (1.5.4)\n",
            "Requirement already satisfied: mypy-extensions>=0.4.3 in /usr/local/lib/python3.7/dist-packages (from black==21.4b2->detectron2==0.5) (0.4.3)\n",
            "Requirement already satisfied: importlib-metadata in /usr/local/lib/python3.7/dist-packages (from click>=7.1.2->black==21.4b2->detectron2==0.5) (4.12.0)\n",
            "Requirement already satisfied: pyyaml>=5.1 in /usr/local/lib/python3.7/dist-packages (from fvcore<0.1.6,>=0.1.5->detectron2==0.5) (5.1)\n",
            "Requirement already satisfied: numpy in /usr/local/lib/python3.7/dist-packages (from fvcore<0.1.6,>=0.1.5->detectron2==0.5) (1.21.6)\n",
            "Requirement already satisfied: importlib-resources in /usr/local/lib/python3.7/dist-packages (from hydra-core>=1.1->detectron2==0.5) (5.9.0)\n",
            "Requirement already satisfied: packaging in /usr/local/lib/python3.7/dist-packages (from hydra-core>=1.1->detectron2==0.5) (21.3)\n",
            "Requirement already satisfied: antlr4-python3-runtime==4.9.* in /usr/local/lib/python3.7/dist-packages (from hydra-core>=1.1->detectron2==0.5) (4.9.3)\n",
            "Requirement already satisfied: portalocker in /usr/local/lib/python3.7/dist-packages (from iopath<0.1.9,>=0.1.7->detectron2==0.5) (2.5.1)\n",
            "Requirement already satisfied: cycler>=0.10 in /usr/local/lib/python3.7/dist-packages (from matplotlib->detectron2==0.5) (0.11.0)\n",
            "Requirement already satisfied: python-dateutil>=2.1 in /usr/local/lib/python3.7/dist-packages (from matplotlib->detectron2==0.5) (2.8.2)\n",
            "Requirement already satisfied: kiwisolver>=1.0.1 in /usr/local/lib/python3.7/dist-packages (from matplotlib->detectron2==0.5) (1.4.4)\n",
            "Requirement already satisfied: pyparsing!=2.0.4,!=2.1.2,!=2.1.6,>=2.0.1 in /usr/local/lib/python3.7/dist-packages (from matplotlib->detectron2==0.5) (3.0.9)\n",
            "Requirement already satisfied: six>=1.5 in /usr/local/lib/python3.7/dist-packages (from python-dateutil>=2.1->matplotlib->detectron2==0.5) (1.15.0)\n",
            "Requirement already satisfied: zipp>=0.5 in /usr/local/lib/python3.7/dist-packages (from importlib-metadata->click>=7.1.2->black==21.4b2->detectron2==0.5) (3.8.1)\n",
            "Requirement already satisfied: tensorboard-data-server<0.7.0,>=0.6.0 in /usr/local/lib/python3.7/dist-packages (from tensorboard->detectron2==0.5) (0.6.1)\n",
            "Requirement already satisfied: requests<3,>=2.21.0 in /usr/local/lib/python3.7/dist-packages (from tensorboard->detectron2==0.5) (2.23.0)\n",
            "Requirement already satisfied: tensorboard-plugin-wit>=1.6.0 in /usr/local/lib/python3.7/dist-packages (from tensorboard->detectron2==0.5) (1.8.1)\n",
            "Requirement already satisfied: absl-py>=0.4 in /usr/local/lib/python3.7/dist-packages (from tensorboard->detectron2==0.5) (1.2.0)\n",
            "Requirement already satisfied: wheel>=0.26 in /usr/local/lib/python3.7/dist-packages (from tensorboard->detectron2==0.5) (0.37.1)\n",
            "Requirement already satisfied: setuptools>=41.0.0 in /usr/local/lib/python3.7/dist-packages (from tensorboard->detectron2==0.5) (57.4.0)\n",
            "Requirement already satisfied: grpcio>=1.24.3 in /usr/local/lib/python3.7/dist-packages (from tensorboard->detectron2==0.5) (1.47.0)\n",
            "Requirement already satisfied: google-auth<3,>=1.6.3 in /usr/local/lib/python3.7/dist-packages (from tensorboard->detectron2==0.5) (1.35.0)\n",
            "Requirement already satisfied: google-auth-oauthlib<0.5,>=0.4.1 in /usr/local/lib/python3.7/dist-packages (from tensorboard->detectron2==0.5) (0.4.6)\n",
            "Requirement already satisfied: protobuf>=3.6.0 in /usr/local/lib/python3.7/dist-packages (from tensorboard->detectron2==0.5) (3.17.3)\n",
            "Requirement already satisfied: markdown>=2.6.8 in /usr/local/lib/python3.7/dist-packages (from tensorboard->detectron2==0.5) (3.4.1)\n",
            "Requirement already satisfied: werkzeug>=0.11.15 in /usr/local/lib/python3.7/dist-packages (from tensorboard->detectron2==0.5) (1.0.1)\n",
            "Requirement already satisfied: pyasn1-modules>=0.2.1 in /usr/local/lib/python3.7/dist-packages (from google-auth<3,>=1.6.3->tensorboard->detectron2==0.5) (0.2.8)\n",
            "Requirement already satisfied: cachetools<5.0,>=2.0.0 in /usr/local/lib/python3.7/dist-packages (from google-auth<3,>=1.6.3->tensorboard->detectron2==0.5) (4.2.4)\n",
            "Requirement already satisfied: rsa<5,>=3.1.4 in /usr/local/lib/python3.7/dist-packages (from google-auth<3,>=1.6.3->tensorboard->detectron2==0.5) (4.9)\n",
            "Requirement already satisfied: requests-oauthlib>=0.7.0 in /usr/local/lib/python3.7/dist-packages (from google-auth-oauthlib<0.5,>=0.4.1->tensorboard->detectron2==0.5) (1.3.1)\n",
            "Requirement already satisfied: pyasn1<0.5.0,>=0.4.6 in /usr/local/lib/python3.7/dist-packages (from pyasn1-modules>=0.2.1->google-auth<3,>=1.6.3->tensorboard->detectron2==0.5) (0.4.8)\n",
            "Requirement already satisfied: certifi>=2017.4.17 in /usr/local/lib/python3.7/dist-packages (from requests<3,>=2.21.0->tensorboard->detectron2==0.5) (2022.6.15)\n",
            "Requirement already satisfied: chardet<4,>=3.0.2 in /usr/local/lib/python3.7/dist-packages (from requests<3,>=2.21.0->tensorboard->detectron2==0.5) (3.0.4)\n",
            "Requirement already satisfied: urllib3!=1.25.0,!=1.25.1,<1.26,>=1.21.1 in /usr/local/lib/python3.7/dist-packages (from requests<3,>=2.21.0->tensorboard->detectron2==0.5) (1.24.3)\n",
            "Requirement already satisfied: idna<3,>=2.5 in /usr/local/lib/python3.7/dist-packages (from requests<3,>=2.21.0->tensorboard->detectron2==0.5) (2.10)\n",
            "Requirement already satisfied: oauthlib>=3.0.0 in /usr/local/lib/python3.7/dist-packages (from requests-oauthlib>=0.7.0->google-auth-oauthlib<0.5,>=0.4.1->tensorboard->detectron2==0.5) (3.2.0)\n",
            "Looking in indexes: https://pypi.org/simple, https://us-python.pkg.dev/colab-wheels/public/simple/\n",
            "Requirement already satisfied: timm in /usr/local/lib/python3.7/dist-packages (0.6.7)\n",
            "Requirement already satisfied: torch>=1.4 in /usr/local/lib/python3.7/dist-packages (from timm) (1.7.1+cu110)\n",
            "Requirement already satisfied: torchvision in /usr/local/lib/python3.7/dist-packages (from timm) (0.8.2+cu110)\n",
            "Requirement already satisfied: numpy in /usr/local/lib/python3.7/dist-packages (from torch>=1.4->timm) (1.21.6)\n",
            "Requirement already satisfied: typing-extensions in /usr/local/lib/python3.7/dist-packages (from torch>=1.4->timm) (4.1.1)\n",
            "Requirement already satisfied: pillow>=4.1.1 in /usr/local/lib/python3.7/dist-packages (from torchvision->timm) (7.1.2)\n",
            "fatal: destination path 'swin' already exists and is not an empty directory.\n",
            "  % Total    % Received % Xferd  Average Speed   Time    Time     Time  Current\n",
            "                                 Dload  Upload   Total   Spent    Left  Speed\n",
            "100     9    0     9    0     0     47      0 --:--:-- --:--:-- --:--:--    46\n",
            "  % Total    % Received % Xferd  Average Speed   Time    Time     Time  Current\n",
            "                                 Dload  Upload   Total   Spent    Left  Speed\n",
            "  0     0    0     0    0     0      0      0 --:--:-- --:--:-- --:--:--     0\n",
            "100  517M  100  517M    0     0  9055k      0  0:00:58  0:00:58 --:--:-- 9349k\n",
            "  % Total    % Received % Xferd  Average Speed   Time    Time     Time  Current\n",
            "                                 Dload  Upload   Total   Spent    Left  Speed\n",
            "  0     0    0     0    0     0      0      0 --:--:-- --:--:-- --:--:--     0\n",
            "100  171M  100  171M    0     0  11.6M      0  0:00:14  0:00:14 --:--:-- 9859k\n"
          ]
        }
      ]
    },
    {
      "cell_type": "code",
      "source": [
        "dir(detectron2.modeling)"
      ],
      "metadata": {
        "id": "t0rn_V2U_nhT"
      },
      "execution_count": null,
      "outputs": []
    },
    {
      "cell_type": "code",
      "source": [
        "import os\n",
        "from pathlib import Path\n",
        "from ast import literal_eval\n",
        "import swin #swin 改成了swint\n",
        "import numpy as np\n",
        "import pandas as pd\n",
        "import cv2\n",
        "import torch\n",
        "import matplotlib.pyplot as plt\n",
        "from PIL import Image\n",
        "\n",
        "from detectron2.data import (DatasetCatalog, \n",
        "                             MetadataCatalog, \n",
        "                             build_detection_test_loader\n",
        "                            )\n",
        "from detectron2.data.datasets.coco import convert_to_coco_json\n",
        "from detectron2.utils.visualizer import Visualizer, ColorMode\n",
        "from detectron2.structures import BoxMode\n",
        "from detectron2.config import get_cfg\n",
        "from detectron2.utils.logger import setup_logger\n",
        "from detectron2.engine import DefaultTrainer, default_setup, hooks\n",
        "from detectron2.modeling import GeneralizedRCNNWithTTA\n",
        "from detectron2.evaluation import COCOEvaluator, DatasetEvaluators, inference_on_dataset\n",
        " \n",
        "from swin.swint import add_swint_config #！！！！！！！！\n",
        "\n",
        "logger = setup_logger()"
      ],
      "metadata": {
        "id": "LHGJAPP2TJ5U"
      },
      "execution_count": 51,
      "outputs": []
    },
    {
      "cell_type": "code",
      "execution_count": 52,
      "metadata": {
        "id": "TcUHy8ldoZ1M"
      },
      "outputs": [],
      "source": [
        "#define the file path to retrieve images\n",
        "def SMALLFLIR(source_path, img_dir, anno_dir ): #define a function. assuming user doesnt know shit about coding and enter random stuff. related to anno dir and img dir\n",
        "    img_dir = os.path.join(source_path, img_dir)\n",
        "    anno_dir = os.path.join(source_path, anno_dir)\n",
        "    data_dicts = []\n",
        "    #define annotation properties\n",
        "    with open(anno_dir) as F:\n",
        "      jsonfile = json.load(F) #load annotations from json file into the dictionary\n",
        "    \n",
        "    annotationinfo = jsonfile[\"annotations\"]\n",
        "    imagesinfo = jsonfile[\"images\"] #retreieve info like category ID and bbox\n",
        "   \n",
        "    #define img sources\n",
        "     \n",
        "    img_dir_list = os.listdir(img_dir)#get the list of all files and directories in the specified directory.\n",
        "    # print(img_dir)\n",
        "    for img_info in imagesinfo: #bbox info category id\n",
        "      for images in img_dir_list:  #img_dir_list = img_dir, which is source_path/img_dir(original)\n",
        "        images = \"data/\" + images\n",
        "        if images == img_info['file_name']: #see if name matches each other, because we wanna find the filenames only for the small flir out of the whole json file\n",
        "\n",
        "          record={}\n",
        "          filename = os.path.join(source_path, img_info[\"file_name\"])\n",
        "          # print(filename)\n",
        "          record[\"file_name\"] = filename\n",
        "          record[\"image_id\"] = img_info['id']\n",
        "          record[\"height\"] = img_info['height']\n",
        "          record['width'] = img_info['width']\n",
        "        \n",
        "          box_info = []\n",
        "          \n",
        "          for anno in annotationinfo:\n",
        "            if anno[\"image_id\"] == img_info['id']:\n",
        "              # if (anno['category_id'] <= 3) & (anno['category_id'] > 0):\n",
        "              if (anno['category_id'] == 1) & (anno['category_id'] > 0): # Predict people only\n",
        "                        box = {\n",
        "                        \"bbox\": anno['bbox'],\n",
        "                        'bbox_mode': BoxMode.XYWH_ABS, # Category_id starts from 0 in detectron2\n",
        "                        'category_id': int(anno['category_id']-1)  #we forcibly convert this shit into integer to be able to minus 1. just incase the stuff from the dict is integer\n",
        "                        #computer counts from zero but not hyman. we have to substract one to match the computer #update Jun29: i deleted -1, bcz there is no category 0 \n",
        "                        } #exactly how dictionary looks like\n",
        "                        imagetesthaha = cv2.imread(filename, 0) \n",
        "                        tt = cv2.rectangle(imagetesthaha, anno[\"bbox\"], (255,0,0),2)\n",
        "                        #cv2_imshow(tt) #for printing all boxes in images one by one, will crash\n",
        "                        box_info.append(box)\n",
        "          record[\"annotations\"] = box_info\n",
        "\n",
        "          data_dicts.append(record)\n",
        "    return data_dicts\n",
        "\n",
        "      \n",
        "      \n",
        "    #print(type(jsonfile)) #check the  type of jsonfile. dict or list or stuff\n",
        "\n",
        "\n",
        "\n",
        "#define dataloader for training and testing sets\n",
        "#train_dataloader = dataloader(training_data, batch_size=64, shuffle=True)\n",
        "#test_dataloader = dataloader(test_data, batch_size=64, shuffle=True)\n"
      ]
    },
    {
      "cell_type": "code",
      "source": [
        "def FLIR_dataset_wrapper(source_path, img_dir, anno_dir):\n",
        "    def wrapper():\n",
        "        return SMALLFLIR(source_path, img_dir, anno_dir)\n",
        "    return wrapper"
      ],
      "metadata": {
        "id": "FGOtfYoDg4h_"
      },
      "execution_count": 53,
      "outputs": []
    },
    {
      "cell_type": "code",
      "execution_count": 55,
      "metadata": {
        "id": "3s1JnldjqII1"
      },
      "outputs": [],
      "source": [
        "DatasetCatalog.clear() #unregister stuff"
      ]
    },
    {
      "cell_type": "code",
      "execution_count": 56,
      "metadata": {
        "id": "zkVXWnkIo8Ej"
      },
      "outputs": [],
      "source": [
        "for d in [\"train\", \"val\"]:\n",
        "    DatasetCatalog.register(\"SMALL_FLIR_THERMAL_\" + d + \"_data\", lambda d=d: SMALLFLIR(\"/content/drive/MyDrive/SMALL_FLIR_THERMAL/train\", \"data\", \"coco.json\")) #changed \"/directry/stuff/\" +d +\"shit\" into this rn\n",
        "    MetadataCatalog.get(\"SMALL_FLIR_THERMAL_\" + d + \"_data\").set(thing_classes=[\"SMALL_FLIR_THERMAL\"])\n",
        "SMALL_FLIR_metadata = MetadataCatalog.get(\"SMALL_FLIR_THERMAL_train_data\")\n"
      ]
    },
    {
      "cell_type": "code",
      "source": [
        "convert_to_coco_json('SMALL_FLIR_THERMAL_train_data', output_file='content/drive/MyDrive/output/inference/SMALL_FLIR_Thermal_Train_coco_format.json', allow_cached=False)\n"
      ],
      "metadata": {
        "colab": {
          "base_uri": "https://localhost:8080/"
        },
        "id": "7LARPbkHhzBV",
        "outputId": "4b4cddf3-0ab6-44e2-b68c-9bb8460d880b"
      },
      "execution_count": 57,
      "outputs": [
        {
          "output_type": "stream",
          "name": "stdout",
          "text": [
            "\u001b[32m[08/27 00:56:34 d2.data.datasets.coco]: \u001b[0mConverting annotations of dataset 'SMALL_FLIR_THERMAL_train_data' to COCO format ...)\n",
            "\u001b[32m[08/27 00:56:41 d2.data.datasets.coco]: \u001b[0mConverting dataset dicts into COCO format\n",
            "\u001b[32m[08/27 00:56:41 d2.data.datasets.coco]: \u001b[0mConversion finished, #images: 105, #annotations: 70\n",
            "\u001b[32m[08/27 00:56:41 d2.data.datasets.coco]: \u001b[0mCaching COCO format annotations at 'content/drive/MyDrive/output/inference/SMALL_FLIR_Thermal_Train_coco_format.json' ...\n"
          ]
        }
      ]
    },
    {
      "cell_type": "code",
      "execution_count": 58,
      "metadata": {
        "id": "bm1wDCzCwjUs"
      },
      "outputs": [],
      "source": [
        "#to varify our thing by calling the function\n",
        "dataset_dicts = SMALLFLIR(\"/content/drive/MyDrive/SMALL_FLIR_THERMAL/train\", \"data\", \"coco.json\")\n"
      ]
    },
    {
      "cell_type": "code",
      "execution_count": 59,
      "metadata": {
        "colab": {
          "base_uri": "https://localhost:8080/"
        },
        "id": "5tsvLlYzmPSm",
        "outputId": "178a50d3-2c02-4c64-f626-e2d819b80d53"
      },
      "outputs": [
        {
          "output_type": "stream",
          "name": "stdout",
          "text": [
            "Sat Aug 27 00:56:47 2022       \n",
            "+-----------------------------------------------------------------------------+\n",
            "| NVIDIA-SMI 460.32.03    Driver Version: 460.32.03    CUDA Version: 11.2     |\n",
            "|-------------------------------+----------------------+----------------------+\n",
            "| GPU  Name        Persistence-M| Bus-Id        Disp.A | Volatile Uncorr. ECC |\n",
            "| Fan  Temp  Perf  Pwr:Usage/Cap|         Memory-Usage | GPU-Util  Compute M. |\n",
            "|                               |                      |               MIG M. |\n",
            "|===============================+======================+======================|\n",
            "|   0  Tesla V100-SXM2...  Off  | 00000000:00:04.0 Off |                    0 |\n",
            "| N/A   36C    P0    40W / 300W |   2323MiB / 16160MiB |      0%      Default |\n",
            "|                               |                      |                  N/A |\n",
            "+-------------------------------+----------------------+----------------------+\n",
            "                                                                               \n",
            "+-----------------------------------------------------------------------------+\n",
            "| Processes:                                                                  |\n",
            "|  GPU   GI   CI        PID   Type   Process name                  GPU Memory |\n",
            "|        ID   ID                                                   Usage      |\n",
            "|=============================================================================|\n",
            "+-----------------------------------------------------------------------------+\n"
          ]
        }
      ],
      "source": [
        "!nvidia-smi"
      ]
    },
    {
      "cell_type": "code",
      "execution_count": 11,
      "metadata": {
        "id": "_ThmiuglrpaC"
      },
      "outputs": [],
      "source": [
        "import torch\n",
        "torch.cuda.empty_cache()"
      ]
    },
    {
      "cell_type": "code",
      "source": [
        "annotation_file = '/content/drive/MyDrive/SMALL_FLIR_THERMAL/train/coco.json'"
      ],
      "metadata": {
        "id": "75C9qoj4Slpx"
      },
      "execution_count": 49,
      "outputs": []
    },
    {
      "cell_type": "code",
      "source": [
        "import pickle\n",
        "with open(\"data.pickle\", 'wb') as f:\n",
        "    # Pickle the 'data' dictionary using the highest protocol available.\n",
        "    f.seek(0)\n",
        "\n",
        "    pickle.dump(dataset_dicts, f, pickle.HIGHEST_PROTOCOL)\n"
      ],
      "metadata": {
        "id": "RF8SR4f71dT-"
      },
      "execution_count": 77,
      "outputs": []
    },
    {
      "cell_type": "code",
      "execution_count": 80,
      "metadata": {
        "colab": {
          "base_uri": "https://localhost:8080/"
        },
        "id": "ARDorzM-lI9n",
        "outputId": "ad082be6-f960-4241-e988-e09255dcd4b2"
      },
      "outputs": [
        {
          "output_type": "stream",
          "name": "stdout",
          "text": [
            "\u001b[32m[08/27 01:09:42 d2.engine.defaults]: \u001b[0mModel:\n",
            "GeneralizedRCNN(\n",
            "  (backbone): FPN(\n",
            "    (fpn_lateral2): Conv2d(96, 256, kernel_size=(1, 1), stride=(1, 1))\n",
            "    (fpn_output2): Conv2d(256, 256, kernel_size=(3, 3), stride=(1, 1), padding=(1, 1))\n",
            "    (fpn_lateral3): Conv2d(192, 256, kernel_size=(1, 1), stride=(1, 1))\n",
            "    (fpn_output3): Conv2d(256, 256, kernel_size=(3, 3), stride=(1, 1), padding=(1, 1))\n",
            "    (fpn_lateral4): Conv2d(384, 256, kernel_size=(1, 1), stride=(1, 1))\n",
            "    (fpn_output4): Conv2d(256, 256, kernel_size=(3, 3), stride=(1, 1), padding=(1, 1))\n",
            "    (fpn_lateral5): Conv2d(768, 256, kernel_size=(1, 1), stride=(1, 1))\n",
            "    (fpn_output5): Conv2d(256, 256, kernel_size=(3, 3), stride=(1, 1), padding=(1, 1))\n",
            "    (top_block): LastLevelMaxPool()\n",
            "    (bottom_up): SwinTransformer(\n",
            "      (patch_embed): PatchEmbed(\n",
            "        (proj): Conv2d(3, 96, kernel_size=(4, 4), stride=(4, 4))\n",
            "        (norm): LayerNorm((96,), eps=1e-05, elementwise_affine=True)\n",
            "      )\n",
            "      (pos_drop): Dropout(p=0.0, inplace=False)\n",
            "      (layers): ModuleList(\n",
            "        (0): BasicLayer(\n",
            "          (blocks): ModuleList(\n",
            "            (0): SwinTransformerBlock(\n",
            "              (norm1): LayerNorm((96,), eps=1e-05, elementwise_affine=True)\n",
            "              (attn): WindowAttention(\n",
            "                (qkv): Linear(in_features=96, out_features=288, bias=True)\n",
            "                (attn_drop): Dropout(p=0.0, inplace=False)\n",
            "                (proj): Linear(in_features=96, out_features=96, bias=True)\n",
            "                (proj_drop): Dropout(p=0.0, inplace=False)\n",
            "                (softmax): Softmax(dim=-1)\n",
            "              )\n",
            "              (drop_path): Identity()\n",
            "              (norm2): LayerNorm((96,), eps=1e-05, elementwise_affine=True)\n",
            "              (mlp): Mlp(\n",
            "                (fc1): Linear(in_features=96, out_features=384, bias=True)\n",
            "                (act): GELU()\n",
            "                (fc2): Linear(in_features=384, out_features=96, bias=True)\n",
            "                (drop): Dropout(p=0.0, inplace=False)\n",
            "              )\n",
            "            )\n",
            "            (1): SwinTransformerBlock(\n",
            "              (norm1): LayerNorm((96,), eps=1e-05, elementwise_affine=True)\n",
            "              (attn): WindowAttention(\n",
            "                (qkv): Linear(in_features=96, out_features=288, bias=True)\n",
            "                (attn_drop): Dropout(p=0.0, inplace=False)\n",
            "                (proj): Linear(in_features=96, out_features=96, bias=True)\n",
            "                (proj_drop): Dropout(p=0.0, inplace=False)\n",
            "                (softmax): Softmax(dim=-1)\n",
            "              )\n",
            "              (drop_path): DropPath(drop_prob=0.018)\n",
            "              (norm2): LayerNorm((96,), eps=1e-05, elementwise_affine=True)\n",
            "              (mlp): Mlp(\n",
            "                (fc1): Linear(in_features=96, out_features=384, bias=True)\n",
            "                (act): GELU()\n",
            "                (fc2): Linear(in_features=384, out_features=96, bias=True)\n",
            "                (drop): Dropout(p=0.0, inplace=False)\n",
            "              )\n",
            "            )\n",
            "          )\n",
            "          (downsample): PatchMerging(\n",
            "            (reduction): Linear(in_features=384, out_features=192, bias=False)\n",
            "            (norm): LayerNorm((384,), eps=1e-05, elementwise_affine=True)\n",
            "          )\n",
            "        )\n",
            "        (1): BasicLayer(\n",
            "          (blocks): ModuleList(\n",
            "            (0): SwinTransformerBlock(\n",
            "              (norm1): LayerNorm((192,), eps=1e-05, elementwise_affine=True)\n",
            "              (attn): WindowAttention(\n",
            "                (qkv): Linear(in_features=192, out_features=576, bias=True)\n",
            "                (attn_drop): Dropout(p=0.0, inplace=False)\n",
            "                (proj): Linear(in_features=192, out_features=192, bias=True)\n",
            "                (proj_drop): Dropout(p=0.0, inplace=False)\n",
            "                (softmax): Softmax(dim=-1)\n",
            "              )\n",
            "              (drop_path): DropPath(drop_prob=0.036)\n",
            "              (norm2): LayerNorm((192,), eps=1e-05, elementwise_affine=True)\n",
            "              (mlp): Mlp(\n",
            "                (fc1): Linear(in_features=192, out_features=768, bias=True)\n",
            "                (act): GELU()\n",
            "                (fc2): Linear(in_features=768, out_features=192, bias=True)\n",
            "                (drop): Dropout(p=0.0, inplace=False)\n",
            "              )\n",
            "            )\n",
            "            (1): SwinTransformerBlock(\n",
            "              (norm1): LayerNorm((192,), eps=1e-05, elementwise_affine=True)\n",
            "              (attn): WindowAttention(\n",
            "                (qkv): Linear(in_features=192, out_features=576, bias=True)\n",
            "                (attn_drop): Dropout(p=0.0, inplace=False)\n",
            "                (proj): Linear(in_features=192, out_features=192, bias=True)\n",
            "                (proj_drop): Dropout(p=0.0, inplace=False)\n",
            "                (softmax): Softmax(dim=-1)\n",
            "              )\n",
            "              (drop_path): DropPath(drop_prob=0.055)\n",
            "              (norm2): LayerNorm((192,), eps=1e-05, elementwise_affine=True)\n",
            "              (mlp): Mlp(\n",
            "                (fc1): Linear(in_features=192, out_features=768, bias=True)\n",
            "                (act): GELU()\n",
            "                (fc2): Linear(in_features=768, out_features=192, bias=True)\n",
            "                (drop): Dropout(p=0.0, inplace=False)\n",
            "              )\n",
            "            )\n",
            "          )\n",
            "          (downsample): PatchMerging(\n",
            "            (reduction): Linear(in_features=768, out_features=384, bias=False)\n",
            "            (norm): LayerNorm((768,), eps=1e-05, elementwise_affine=True)\n",
            "          )\n",
            "        )\n",
            "        (2): BasicLayer(\n",
            "          (blocks): ModuleList(\n",
            "            (0): SwinTransformerBlock(\n",
            "              (norm1): LayerNorm((384,), eps=1e-05, elementwise_affine=True)\n",
            "              (attn): WindowAttention(\n",
            "                (qkv): Linear(in_features=384, out_features=1152, bias=True)\n",
            "                (attn_drop): Dropout(p=0.0, inplace=False)\n",
            "                (proj): Linear(in_features=384, out_features=384, bias=True)\n",
            "                (proj_drop): Dropout(p=0.0, inplace=False)\n",
            "                (softmax): Softmax(dim=-1)\n",
            "              )\n",
            "              (drop_path): DropPath(drop_prob=0.073)\n",
            "              (norm2): LayerNorm((384,), eps=1e-05, elementwise_affine=True)\n",
            "              (mlp): Mlp(\n",
            "                (fc1): Linear(in_features=384, out_features=1536, bias=True)\n",
            "                (act): GELU()\n",
            "                (fc2): Linear(in_features=1536, out_features=384, bias=True)\n",
            "                (drop): Dropout(p=0.0, inplace=False)\n",
            "              )\n",
            "            )\n",
            "            (1): SwinTransformerBlock(\n",
            "              (norm1): LayerNorm((384,), eps=1e-05, elementwise_affine=True)\n",
            "              (attn): WindowAttention(\n",
            "                (qkv): Linear(in_features=384, out_features=1152, bias=True)\n",
            "                (attn_drop): Dropout(p=0.0, inplace=False)\n",
            "                (proj): Linear(in_features=384, out_features=384, bias=True)\n",
            "                (proj_drop): Dropout(p=0.0, inplace=False)\n",
            "                (softmax): Softmax(dim=-1)\n",
            "              )\n",
            "              (drop_path): DropPath(drop_prob=0.091)\n",
            "              (norm2): LayerNorm((384,), eps=1e-05, elementwise_affine=True)\n",
            "              (mlp): Mlp(\n",
            "                (fc1): Linear(in_features=384, out_features=1536, bias=True)\n",
            "                (act): GELU()\n",
            "                (fc2): Linear(in_features=1536, out_features=384, bias=True)\n",
            "                (drop): Dropout(p=0.0, inplace=False)\n",
            "              )\n",
            "            )\n",
            "            (2): SwinTransformerBlock(\n",
            "              (norm1): LayerNorm((384,), eps=1e-05, elementwise_affine=True)\n",
            "              (attn): WindowAttention(\n",
            "                (qkv): Linear(in_features=384, out_features=1152, bias=True)\n",
            "                (attn_drop): Dropout(p=0.0, inplace=False)\n",
            "                (proj): Linear(in_features=384, out_features=384, bias=True)\n",
            "                (proj_drop): Dropout(p=0.0, inplace=False)\n",
            "                (softmax): Softmax(dim=-1)\n",
            "              )\n",
            "              (drop_path): DropPath(drop_prob=0.109)\n",
            "              (norm2): LayerNorm((384,), eps=1e-05, elementwise_affine=True)\n",
            "              (mlp): Mlp(\n",
            "                (fc1): Linear(in_features=384, out_features=1536, bias=True)\n",
            "                (act): GELU()\n",
            "                (fc2): Linear(in_features=1536, out_features=384, bias=True)\n",
            "                (drop): Dropout(p=0.0, inplace=False)\n",
            "              )\n",
            "            )\n",
            "            (3): SwinTransformerBlock(\n",
            "              (norm1): LayerNorm((384,), eps=1e-05, elementwise_affine=True)\n",
            "              (attn): WindowAttention(\n",
            "                (qkv): Linear(in_features=384, out_features=1152, bias=True)\n",
            "                (attn_drop): Dropout(p=0.0, inplace=False)\n",
            "                (proj): Linear(in_features=384, out_features=384, bias=True)\n",
            "                (proj_drop): Dropout(p=0.0, inplace=False)\n",
            "                (softmax): Softmax(dim=-1)\n",
            "              )\n",
            "              (drop_path): DropPath(drop_prob=0.127)\n",
            "              (norm2): LayerNorm((384,), eps=1e-05, elementwise_affine=True)\n",
            "              (mlp): Mlp(\n",
            "                (fc1): Linear(in_features=384, out_features=1536, bias=True)\n",
            "                (act): GELU()\n",
            "                (fc2): Linear(in_features=1536, out_features=384, bias=True)\n",
            "                (drop): Dropout(p=0.0, inplace=False)\n",
            "              )\n",
            "            )\n",
            "            (4): SwinTransformerBlock(\n",
            "              (norm1): LayerNorm((384,), eps=1e-05, elementwise_affine=True)\n",
            "              (attn): WindowAttention(\n",
            "                (qkv): Linear(in_features=384, out_features=1152, bias=True)\n",
            "                (attn_drop): Dropout(p=0.0, inplace=False)\n",
            "                (proj): Linear(in_features=384, out_features=384, bias=True)\n",
            "                (proj_drop): Dropout(p=0.0, inplace=False)\n",
            "                (softmax): Softmax(dim=-1)\n",
            "              )\n",
            "              (drop_path): DropPath(drop_prob=0.145)\n",
            "              (norm2): LayerNorm((384,), eps=1e-05, elementwise_affine=True)\n",
            "              (mlp): Mlp(\n",
            "                (fc1): Linear(in_features=384, out_features=1536, bias=True)\n",
            "                (act): GELU()\n",
            "                (fc2): Linear(in_features=1536, out_features=384, bias=True)\n",
            "                (drop): Dropout(p=0.0, inplace=False)\n",
            "              )\n",
            "            )\n",
            "            (5): SwinTransformerBlock(\n",
            "              (norm1): LayerNorm((384,), eps=1e-05, elementwise_affine=True)\n",
            "              (attn): WindowAttention(\n",
            "                (qkv): Linear(in_features=384, out_features=1152, bias=True)\n",
            "                (attn_drop): Dropout(p=0.0, inplace=False)\n",
            "                (proj): Linear(in_features=384, out_features=384, bias=True)\n",
            "                (proj_drop): Dropout(p=0.0, inplace=False)\n",
            "                (softmax): Softmax(dim=-1)\n",
            "              )\n",
            "              (drop_path): DropPath(drop_prob=0.164)\n",
            "              (norm2): LayerNorm((384,), eps=1e-05, elementwise_affine=True)\n",
            "              (mlp): Mlp(\n",
            "                (fc1): Linear(in_features=384, out_features=1536, bias=True)\n",
            "                (act): GELU()\n",
            "                (fc2): Linear(in_features=1536, out_features=384, bias=True)\n",
            "                (drop): Dropout(p=0.0, inplace=False)\n",
            "              )\n",
            "            )\n",
            "          )\n",
            "          (downsample): PatchMerging(\n",
            "            (reduction): Linear(in_features=1536, out_features=768, bias=False)\n",
            "            (norm): LayerNorm((1536,), eps=1e-05, elementwise_affine=True)\n",
            "          )\n",
            "        )\n",
            "        (3): BasicLayer(\n",
            "          (blocks): ModuleList(\n",
            "            (0): SwinTransformerBlock(\n",
            "              (norm1): LayerNorm((768,), eps=1e-05, elementwise_affine=True)\n",
            "              (attn): WindowAttention(\n",
            "                (qkv): Linear(in_features=768, out_features=2304, bias=True)\n",
            "                (attn_drop): Dropout(p=0.0, inplace=False)\n",
            "                (proj): Linear(in_features=768, out_features=768, bias=True)\n",
            "                (proj_drop): Dropout(p=0.0, inplace=False)\n",
            "                (softmax): Softmax(dim=-1)\n",
            "              )\n",
            "              (drop_path): DropPath(drop_prob=0.182)\n",
            "              (norm2): LayerNorm((768,), eps=1e-05, elementwise_affine=True)\n",
            "              (mlp): Mlp(\n",
            "                (fc1): Linear(in_features=768, out_features=3072, bias=True)\n",
            "                (act): GELU()\n",
            "                (fc2): Linear(in_features=3072, out_features=768, bias=True)\n",
            "                (drop): Dropout(p=0.0, inplace=False)\n",
            "              )\n",
            "            )\n",
            "            (1): SwinTransformerBlock(\n",
            "              (norm1): LayerNorm((768,), eps=1e-05, elementwise_affine=True)\n",
            "              (attn): WindowAttention(\n",
            "                (qkv): Linear(in_features=768, out_features=2304, bias=True)\n",
            "                (attn_drop): Dropout(p=0.0, inplace=False)\n",
            "                (proj): Linear(in_features=768, out_features=768, bias=True)\n",
            "                (proj_drop): Dropout(p=0.0, inplace=False)\n",
            "                (softmax): Softmax(dim=-1)\n",
            "              )\n",
            "              (drop_path): DropPath(drop_prob=0.200)\n",
            "              (norm2): LayerNorm((768,), eps=1e-05, elementwise_affine=True)\n",
            "              (mlp): Mlp(\n",
            "                (fc1): Linear(in_features=768, out_features=3072, bias=True)\n",
            "                (act): GELU()\n",
            "                (fc2): Linear(in_features=3072, out_features=768, bias=True)\n",
            "                (drop): Dropout(p=0.0, inplace=False)\n",
            "              )\n",
            "            )\n",
            "          )\n",
            "        )\n",
            "      )\n",
            "      (norm0): LayerNorm((96,), eps=1e-05, elementwise_affine=True)\n",
            "      (norm1): LayerNorm((192,), eps=1e-05, elementwise_affine=True)\n",
            "      (norm2): LayerNorm((384,), eps=1e-05, elementwise_affine=True)\n",
            "      (norm3): LayerNorm((768,), eps=1e-05, elementwise_affine=True)\n",
            "    )\n",
            "  )\n",
            "  (proposal_generator): RPN(\n",
            "    (rpn_head): StandardRPNHead(\n",
            "      (conv): Conv2d(\n",
            "        256, 256, kernel_size=(3, 3), stride=(1, 1), padding=(1, 1)\n",
            "        (activation): ReLU()\n",
            "      )\n",
            "      (objectness_logits): Conv2d(256, 3, kernel_size=(1, 1), stride=(1, 1))\n",
            "      (anchor_deltas): Conv2d(256, 12, kernel_size=(1, 1), stride=(1, 1))\n",
            "    )\n",
            "    (anchor_generator): DefaultAnchorGenerator(\n",
            "      (cell_anchors): BufferList()\n",
            "    )\n",
            "  )\n",
            "  (roi_heads): StandardROIHeads(\n",
            "    (box_pooler): ROIPooler(\n",
            "      (level_poolers): ModuleList(\n",
            "        (0): ROIAlign(output_size=(7, 7), spatial_scale=0.25, sampling_ratio=0, aligned=True)\n",
            "        (1): ROIAlign(output_size=(7, 7), spatial_scale=0.125, sampling_ratio=0, aligned=True)\n",
            "        (2): ROIAlign(output_size=(7, 7), spatial_scale=0.0625, sampling_ratio=0, aligned=True)\n",
            "        (3): ROIAlign(output_size=(7, 7), spatial_scale=0.03125, sampling_ratio=0, aligned=True)\n",
            "      )\n",
            "    )\n",
            "    (box_head): FastRCNNConvFCHead(\n",
            "      (flatten): Flatten(start_dim=1, end_dim=-1)\n",
            "      (fc1): Linear(in_features=12544, out_features=1024, bias=True)\n",
            "      (fc_relu1): ReLU()\n",
            "      (fc2): Linear(in_features=1024, out_features=1024, bias=True)\n",
            "      (fc_relu2): ReLU()\n",
            "    )\n",
            "    (box_predictor): FastRCNNOutputLayers(\n",
            "      (cls_score): Linear(in_features=1024, out_features=2, bias=True)\n",
            "      (bbox_pred): Linear(in_features=1024, out_features=4, bias=True)\n",
            "    )\n",
            "  )\n",
            ")\n",
            "\u001b[32m[08/27 01:09:49 d2.data.build]: \u001b[0mRemoved 70 images with no usable annotations. 35 images left.\n",
            "\u001b[32m[08/27 01:09:49 d2.data.dataset_mapper]: \u001b[0m[DatasetMapper] Augmentations used in training: [ResizeShortestEdge(short_edge_length=(640, 672, 704, 736, 768, 800), max_size=1333, sample_style='choice'), RandomFlip()]\n",
            "\u001b[32m[08/27 01:09:49 d2.data.build]: \u001b[0mUsing training sampler TrainingSampler\n",
            "\u001b[32m[08/27 01:09:49 d2.data.common]: \u001b[0mSerializing 35 elements to byte tensors and concatenating them all ...\n",
            "\u001b[32m[08/27 01:09:49 d2.data.common]: \u001b[0mSerialized dataset takes 0.01 MiB\n"
          ]
        },
        {
          "output_type": "stream",
          "name": "stderr",
          "text": [
            "WARNING:fvcore.common.checkpoint:Skip loading parameter 'roi_heads.box_predictor.cls_score.weight' to the model due to incompatible shapes: (81, 1024) in the checkpoint but (2, 1024) in the model! You might want to double check if this is expected.\n",
            "WARNING:fvcore.common.checkpoint:Skip loading parameter 'roi_heads.box_predictor.cls_score.bias' to the model due to incompatible shapes: (81,) in the checkpoint but (2,) in the model! You might want to double check if this is expected.\n",
            "WARNING:fvcore.common.checkpoint:Skip loading parameter 'roi_heads.box_predictor.bbox_pred.weight' to the model due to incompatible shapes: (320, 1024) in the checkpoint but (4, 1024) in the model! You might want to double check if this is expected.\n",
            "WARNING:fvcore.common.checkpoint:Skip loading parameter 'roi_heads.box_predictor.bbox_pred.bias' to the model due to incompatible shapes: (320,) in the checkpoint but (4,) in the model! You might want to double check if this is expected.\n",
            "WARNING:fvcore.common.checkpoint:Some model parameters or buffers are not found in the checkpoint:\n",
            "\u001b[34mroi_heads.box_predictor.bbox_pred.{bias, weight}\u001b[0m\n",
            "\u001b[34mroi_heads.box_predictor.cls_score.{bias, weight}\u001b[0m\n",
            "WARNING:fvcore.common.checkpoint:The checkpoint state_dict contains keys that are not used by the model:\n",
            "  \u001b[35mpixel_mean\u001b[0m\n",
            "  \u001b[35mpixel_std\u001b[0m\n",
            "  \u001b[35mproposal_generator.anchor_generator.cell_anchors.{0, 1, 2, 3, 4}\u001b[0m\n"
          ]
        },
        {
          "output_type": "stream",
          "name": "stdout",
          "text": [
            "\u001b[32m[08/27 01:09:50 d2.engine.train_loop]: \u001b[0mStarting training from iteration 0\n"
          ]
        },
        {
          "output_type": "stream",
          "name": "stderr",
          "text": [
            "/usr/local/lib/python3.7/dist-packages/detectron2/modeling/roi_heads/fast_rcnn.py:103: UserWarning: This overload of nonzero is deprecated:\n",
            "\tnonzero()\n",
            "Consider using one of the following signatures instead:\n",
            "\tnonzero(*, bool as_tuple) (Triggered internally at  /pytorch/torch/csrc/utils/python_arg_parser.cpp:882.)\n",
            "  num_fg = fg_inds.nonzero().numel()\n",
            "/usr/local/lib/python3.7/dist-packages/torch/optim/lr_scheduler.py:136: UserWarning: Detected call of `lr_scheduler.step()` before `optimizer.step()`. In PyTorch 1.1.0 and later, you should call them in the opposite order: `optimizer.step()` before `lr_scheduler.step()`.  Failure to do this will result in PyTorch skipping the first value of the learning rate schedule. See more details at https://pytorch.org/docs/stable/optim.html#how-to-adjust-learning-rate\n",
            "  \"https://pytorch.org/docs/stable/optim.html#how-to-adjust-learning-rate\", UserWarning)\n"
          ]
        },
        {
          "output_type": "stream",
          "name": "stdout",
          "text": [
            "\u001b[32m[08/27 01:09:58 d2.utils.events]: \u001b[0m eta: 0:01:41  iter: 19  total_loss: 3.203  loss_cls: 2.115  loss_box_reg: 0.002302  loss_rpn_cls: 1.133  loss_rpn_loc: 0.08501  time: 0.3619  data_time: 0.0379  lr: 6.427e-06  max_mem: 7796M\n",
            "\u001b[32m[08/27 01:10:05 d2.utils.events]: \u001b[0m eta: 0:01:34  iter: 39  total_loss: 0.9516  loss_cls: 0.1213  loss_box_reg: 0.00112  loss_rpn_cls: 0.8259  loss_rpn_loc: 0.05529  time: 0.3638  data_time: 0.0269  lr: 1.3087e-05  max_mem: 7796M\n",
            "\u001b[32m[08/27 01:10:12 d2.utils.events]: \u001b[0m eta: 0:01:26  iter: 59  total_loss: 0.8284  loss_cls: 0.04605  loss_box_reg: 0.0002933  loss_rpn_cls: 0.7256  loss_rpn_loc: 0.0487  time: 0.3598  data_time: 0.0287  lr: 1.9747e-05  max_mem: 7796M\n",
            "\u001b[32m[08/27 01:10:20 d2.utils.events]: \u001b[0m eta: 0:01:19  iter: 79  total_loss: 0.6338  loss_cls: 0.0569  loss_box_reg: 0.0001895  loss_rpn_cls: 0.53  loss_rpn_loc: 0.04692  time: 0.3709  data_time: 0.0321  lr: 2.6407e-05  max_mem: 7796M\n",
            "\u001b[32m[08/27 01:10:28 d2.utils.events]: \u001b[0m eta: 0:01:12  iter: 99  total_loss: 0.365  loss_cls: 0.05676  loss_box_reg: 0.0001311  loss_rpn_cls: 0.2783  loss_rpn_loc: 0.02752  time: 0.3690  data_time: 0.0254  lr: 3.3067e-05  max_mem: 7796M\n",
            "\u001b[32m[08/27 01:10:35 d2.utils.events]: \u001b[0m eta: 0:01:05  iter: 119  total_loss: 0.3316  loss_cls: 0.05521  loss_box_reg: 0.0001241  loss_rpn_cls: 0.2336  loss_rpn_loc: 0.04384  time: 0.3663  data_time: 0.0262  lr: 3.9727e-05  max_mem: 7796M\n",
            "\u001b[32m[08/27 01:10:42 d2.utils.events]: \u001b[0m eta: 0:00:57  iter: 139  total_loss: 0.3415  loss_cls: 0.04997  loss_box_reg: 0.0001826  loss_rpn_cls: 0.2403  loss_rpn_loc: 0.04725  time: 0.3674  data_time: 0.0249  lr: 4.6387e-05  max_mem: 7796M\n",
            "\u001b[32m[08/27 01:10:49 d2.utils.events]: \u001b[0m eta: 0:00:50  iter: 159  total_loss: 0.307  loss_cls: 0.04184  loss_box_reg: 0.0002194  loss_rpn_cls: 0.2205  loss_rpn_loc: 0.04302  time: 0.3655  data_time: 0.0283  lr: 5.3047e-05  max_mem: 7796M\n",
            "\u001b[32m[08/27 01:10:56 d2.utils.events]: \u001b[0m eta: 0:00:43  iter: 179  total_loss: 0.293  loss_cls: 0.04113  loss_box_reg: 0.0002154  loss_rpn_cls: 0.1981  loss_rpn_loc: 0.04534  time: 0.3649  data_time: 0.0283  lr: 5.9707e-05  max_mem: 7796M\n",
            "\u001b[32m[08/27 01:11:04 d2.utils.events]: \u001b[0m eta: 0:00:36  iter: 199  total_loss: 0.2898  loss_cls: 0.04056  loss_box_reg: 0.0001596  loss_rpn_cls: 0.2081  loss_rpn_loc: 0.045  time: 0.3643  data_time: 0.0309  lr: 6.6367e-05  max_mem: 7796M\n",
            "\u001b[32m[08/27 01:11:11 d2.utils.events]: \u001b[0m eta: 0:00:28  iter: 219  total_loss: 0.2647  loss_cls: 0.04324  loss_box_reg: 0.0001773  loss_rpn_cls: 0.1964  loss_rpn_loc: 0.032  time: 0.3632  data_time: 0.0258  lr: 7.3027e-05  max_mem: 7796M\n",
            "\u001b[32m[08/27 01:11:18 d2.utils.events]: \u001b[0m eta: 0:00:21  iter: 239  total_loss: 0.2424  loss_cls: 0.03998  loss_box_reg: 0.0001866  loss_rpn_cls: 0.1738  loss_rpn_loc: 0.03489  time: 0.3633  data_time: 0.0292  lr: 7.9687e-05  max_mem: 7796M\n",
            "\u001b[32m[08/27 01:11:25 d2.utils.events]: \u001b[0m eta: 0:00:14  iter: 259  total_loss: 0.2541  loss_cls: 0.04083  loss_box_reg: 0.0001408  loss_rpn_cls: 0.1842  loss_rpn_loc: 0.0328  time: 0.3644  data_time: 0.0303  lr: 8.6347e-05  max_mem: 7796M\n",
            "\u001b[32m[08/27 01:11:33 d2.utils.events]: \u001b[0m eta: 0:00:07  iter: 279  total_loss: 0.2917  loss_cls: 0.04134  loss_box_reg: 0.0001358  loss_rpn_cls: 0.1946  loss_rpn_loc: 0.04493  time: 0.3654  data_time: 0.0286  lr: 9.3007e-05  max_mem: 7796M\n",
            "\u001b[32m[08/27 01:11:41 d2.utils.events]: \u001b[0m eta: 0:00:00  iter: 299  total_loss: 0.3127  loss_cls: 0.0442  loss_box_reg: 0.0001349  loss_rpn_cls: 0.2105  loss_rpn_loc: 0.05261  time: 0.3650  data_time: 0.0273  lr: 9.9667e-05  max_mem: 7796M\n",
            "\u001b[32m[08/27 01:11:41 d2.engine.hooks]: \u001b[0mOverall training speed: 298 iterations in 0:01:48 (0.3651 s / it)\n",
            "\u001b[32m[08/27 01:11:41 d2.engine.hooks]: \u001b[0mTotal training time: 0:01:49 (0:00:01 on hooks)\n",
            "\u001b[32m[08/27 01:11:48 d2.data.dataset_mapper]: \u001b[0m[DatasetMapper] Augmentations used in inference: [ResizeShortestEdge(short_edge_length=(800, 800), max_size=1333, sample_style='choice')]\n",
            "\u001b[32m[08/27 01:11:48 d2.data.common]: \u001b[0mSerializing 105 elements to byte tensors and concatenating them all ...\n",
            "\u001b[32m[08/27 01:11:48 d2.data.common]: \u001b[0mSerialized dataset takes 0.02 MiB\n",
            "\u001b[5m\u001b[31mWARNING\u001b[0m \u001b[32m[08/27 01:11:48 d2.engine.defaults]: \u001b[0mNo evaluator found. Use `DefaultTrainer.test(evaluators=)`, or implement its `build_evaluator` method.\n"
          ]
        }
      ],
      "source": [
        "from detectron2.engine import DefaultTrainer\n",
        "\n",
        "cfg = get_cfg()\n",
        "add_swint_config(cfg)\n",
        "cfg.DATASETS.TRAIN = (\"SMALL_FLIR_THERMAL_train_data\",)\n",
        "cfg.MODEL.RESNETS.DEPTH = 50 #for mvit v2 S we are setting the depth = 101. (F)\n",
        "cfg.DATASETS.TEST = ('SMALL_FLIR_THERMAL_val_data',)\n",
        "\n",
        "# cfg.Dataset = (\"SMALL_FLIR_THERMAL_train_data\")\n",
        "\n",
        "\n",
        "cfg.merge_from_file(\"/content/swin/configs/SwinT/faster_rcnn_swint_T_FPN_3x.yaml\")\n",
        "cfg.MODEL.WEIGHTS = \"/content/faster_rcnn_swint_T.pth\"\n",
        "\n",
        "\n",
        "\n",
        "\n",
        "\n",
        "cfg.DATALOADER.NUM_WORKERS = 2\n",
        "cfg.SOLVER.IMS_PER_BATCH = 4  # This is the real \"batch size\" commonly known to deep learning people 'changed to 5'\n",
        "cfg.SOLVER.BASE_LR = 0.0001 #SET ALL TO 0.0001\n",
        "cfg.SOLVER.MAX_ITER = 300    # 270000 for 3x (F)\n",
        "cfg.SOLVER.STEPS = []        # do not decay learning rate\n",
        "# cfg.SOLVER.WARMUP_FACTOR = 1.0 / 5000\n",
        "# cfg.SOLVER.WARMUP_ITERS = 5000\n",
        "cfg.MODEL.ROI_HEADS.BATCH_SIZE_PER_IMAGE = 256   # chose 512 for 3x\n",
        "cfg.MODEL.ROI_HEADS.NUM_CLASSES = 1  # only has one class (people). (see https://detectron2.readthedocs.io/tutorials/datasets.html#update-the-config-for-new-datasets)\n",
        "# NOTE: this config means the number of classes, but a few popular unofficial tutorials incorrect uses num_classes+1 here.\n",
        "cfg.MODEL.MASK_ON = False\n",
        "# cfg.MODEL.RESNETS.DEFORM_MODULATED = True\n",
        "cfg.MODEL.BACKBONE.FREEZE_AT = 0\n",
        "cfg.OUTPUT_DIR = \"/content/drive/MyDrive/SwinTEXPERIMENT\"\n",
        "\n",
        "\n",
        "\n",
        "\n",
        "\n",
        "#load pretrained weight\n",
        "# # load pretrained weights\n",
        "# other_weights = torch.load('/content/swin_tiny_patch4_window7_224_d2.pth')['model']\n",
        "# self_weight = trainer.model.state_dict()\n",
        "# for name, param in self_weight.items():\n",
        "#     if name in other_weights:\n",
        "#         if other_weights[name].shape == param.shape:\n",
        "#             self_weight[name] = other_weights[name]\n",
        "#         else:\n",
        "#             print(f\"size mismatch at {name}\")\n",
        "#     else:\n",
        "#         print(f\"layer {name} does not exist\")\n",
        "# trainer.model.load_state_dict(self_weight)\n",
        "\n",
        "\n",
        "os.makedirs(cfg.OUTPUT_DIR, exist_ok=True)\n",
        "trainer = DefaultTrainer(cfg) \n",
        "trainer.resume_or_load(resume=True)\n",
        "trainer.train()"
      ]
    },
    {
      "cell_type": "code",
      "execution_count": null,
      "metadata": {
        "id": "aOfQMXqSVAT5"
      },
      "outputs": [],
      "source": [
        "# Look at training curves in tensorboard:\n",
        "%load_ext tensorboard\n",
        "%tensorboard --logdir output"
      ]
    },
    {
      "cell_type": "code",
      "execution_count": null,
      "metadata": {
        "id": "GRKyeHV1_ZLV"
      },
      "outputs": [],
      "source": [
        "from detectron2.utils.visualizer import ColorMode\n",
        "\n",
        "#Use the final weights generated after successful training for inference  \n",
        "cfg.MODEL.WEIGHTS = os.path.join(cfg.OUTPUT_DIR, \"model_final.pth\")\n",
        "\n",
        "cfg.MODEL.ROI_HEADS.SCORE_THRESH_TEST = 0.5  # ALL THRESHOLD = 0.5\n",
        "#Pass the validation dataset\n",
        "cfg.DATASETS.TEST = (\"boardetect_val\", )\n",
        "\n",
        "predictor = DefaultPredictor(cfg)"
      ]
    },
    {
      "cell_type": "code",
      "execution_count": null,
      "metadata": {
        "id": "dFBn67vb_dZg"
      },
      "outputs": [],
      "source": [
        "#see if this shit is wroking aka run instance on test images\n",
        "from detectron2.utils.visualizer import ColorMode\n",
        "dataset_dicts = SMALLFLIR(\"/content/drive/MyDrive/FLIR_THERMAL/val/\", \"data\", \"coco.json\")\n",
        "for d in random.sample(dataset_dicts, 5):    \n",
        "    im = cv2.imread(d[\"file_name\"])\n",
        "    outputs = predictor(im)  # format is documented at https://detectron2.readthedocs.io/tutorials/models.html#model-output-format\n",
        "    v = Visualizer(im[:, :, ::-1],\n",
        "                   metadata=FLIR_metadata, \n",
        "                   scale=0.5, \n",
        "                      # remove the colors of unsegmented pixels. This option is only available for segmentation models\n",
        "    )\n",
        "    out = v.draw_instance_predictions(outputs[\"instances\"].to(\"cpu\"))\n",
        "    cv2_imshow(out.get_image()[:, :, ::-1])"
      ]
    },
    {
      "cell_type": "code",
      "execution_count": null,
      "metadata": {
        "id": "mjX2dFJ0a8LS"
      },
      "outputs": [],
      "source": [
        "from detectron2.data import DatasetCatalog, MetadataCatalog, build_detection_test_loader\n",
        "from detectron2.evaluation import COCOEvaluator, inference_on_dataset\n",
        "\n",
        "cfg.MODEL.WEIGHTS = os.path.join(cfg.OUTPUT_DIR, \"model_final.pth\")\n",
        "cfg.MODEL.ROI_HEADS.SCORE_THRESH_TEST = 0.5 #ALL THRESHOLD = 0.5 \n",
        "predictor = DefaultPredictor(cfg)\n",
        "evaluator = COCOEvaluator(\"FLIR_THERMAL_train_data\", cfg, False, output_dir=\"content/output/\")\n",
        "val_loader = build_detection_test_loader(cfg, \"FLIR_THERMAL_val_data\")\n",
        "inference_on_dataset(trainer.model, val_loader, evaluator)"
      ]
    },
    {
      "cell_type": "code",
      "execution_count": null,
      "metadata": {
        "id": "QYLWQLt6gCLO"
      },
      "outputs": [],
      "source": []
    }
  ],
  "metadata": {
    "accelerator": "GPU",
    "colab": {
      "background_execution": "on",
      "collapsed_sections": [],
      "name": "EXPERIMENT SMALL SWINT",
      "provenance": [],
      "include_colab_link": true
    },
    "gpuClass": "standard",
    "kernelspec": {
      "display_name": "Python 3",
      "name": "python3"
    },
    "language_info": {
      "name": "python"
    }
  },
  "nbformat": 4,
  "nbformat_minor": 0
}